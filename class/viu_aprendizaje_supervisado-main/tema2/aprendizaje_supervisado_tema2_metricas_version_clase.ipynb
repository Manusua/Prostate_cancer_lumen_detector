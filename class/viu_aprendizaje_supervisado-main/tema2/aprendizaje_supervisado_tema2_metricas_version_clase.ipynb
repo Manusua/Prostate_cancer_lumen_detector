{
  "nbformat": 4,
  "nbformat_minor": 0,
  "metadata": {
    "colab": {
      "provenance": [],
      "authorship_tag": "ABX9TyMkv4Nvta0368W6T1+jPJIG",
      "include_colab_link": true
    },
    "kernelspec": {
      "name": "python3",
      "display_name": "Python 3"
    },
    "language_info": {
      "name": "python"
    }
  },
  "cells": [
    {
      "cell_type": "markdown",
      "metadata": {
        "id": "view-in-github",
        "colab_type": "text"
      },
      "source": [
        "<a href=\"https://colab.research.google.com/github/ssanchezgoe/viu_aprendizaje_supervisado/blob/main/tema2/aprendizaje_supervisado_tema2_metricas_version_clase.ipynb\" target=\"_parent\"><img src=\"https://colab.research.google.com/assets/colab-badge.svg\" alt=\"Open In Colab\"/></a>"
      ]
    },
    {
      "cell_type": "markdown",
      "source": [
        "<p><img alt=\"Colaboratory logo\" height=\"140px\" src=\"https://github.com/ssanchezgoe/viu_aprendizaje_supervisado/blob/main/logos/logo_viu.png?raw=true\" align=\"left\" hspace=\"10px\" vspace=\"0px\"></p>\n",
        "\n",
        "<h1> Asignatura de Inteligencia Artificial</h1>\n",
        "\n",
        "\n",
        "La presente asignatura hace parte del máster oficial en Inteligencia Artificial, impartido en la Universidad Internacional de Valencia (VIU)."
      ],
      "metadata": {
        "id": "v5arberOybxK"
      }
    },
    {
      "cell_type": "markdown",
      "source": [
        "<p><a name=\"contents\"></a></p>\n",
        "\n",
        "# Contenido\n",
        "\n",
        "- <a href=\"#metricas\">1. Métricas</a><br>\n",
        "  - <a href=\"#metricas_regresion\">1.1 Métricas de regresión</a><br>\n",
        "  - <a href=\"#metricas_clasificacion\">1.2 Métricas de clasificación </a><br>\n",
        "    - <a href=\"#tipos_error\">1.2.1 Tipos de error</a><br>\n",
        "    - <a href=\"#datos_no_balanceados\">1.2.2 Datos no balanceados<a><br>\n",
        "    - <a href=\"#matriz_de_confusion\">1.2.3 Matriz de confusión<a><br>\n",
        "    - <a href=\"#todas_las_metricas\">1.2.4 Precisión, exhaustividad, exactitud y demás métricas.<a><br>\n",
        "\n",
        "    \n"
      ],
      "metadata": {
        "id": "V2igoSWpK6DD"
      }
    },
    {
      "cell_type": "markdown",
      "source": [
        "<p><a name=\"metricas\"></a></p>\n",
        "\n",
        "# 1. Métricas\n",
        "\n",
        "[Contenidos](#contents)"
      ],
      "metadata": {
        "id": "Es0F6ym182vb"
      }
    },
    {
      "cell_type": "markdown",
      "source": [
        "Antes de iniciar el estudio de los algorítmos de machine learning en aprendizaje supervisado, se debe comprender los tipos de métricas en función del tipo de la variable objetivo $y$ a predecir. En este sentido, existen dos grandes grupos de métricas que se estudian en esta sesión:\n",
        "\n",
        "* **Métricas para regresión**: en donde la variable objetivo es de tipo númerico y continua, y las métricas tienen como eje común la distancia entre el valor real y el valor predicho: $y_i - \\hat{y}_i$\n",
        "* **Métricas para clasificación:** en donde la variable objetivo es de tipo categórica, y las métricas tienen como eje común un conteo de las clases predichas de forma correcta o incorrecta respecto al total de muestras (o bien por clase, o bien en conjunto).\n",
        "\n",
        "En cualquier caso, las métricas son puntajes numéricos.\n",
        "\n",
        "Veamos a continuación cada una de estas métricas."
      ],
      "metadata": {
        "id": "dqzsi8WX8mSC"
      }
    },
    {
      "cell_type": "markdown",
      "metadata": {
        "id": "ksuZ7R8U6Alp"
      },
      "source": [
        "<p><a name=\"metricas_regresion\"></a></p>\n",
        "\n",
        "## 1.1 Métricas de regresión\n",
        "\n",
        "[Contenidos](#contents)"
      ]
    },
    {
      "cell_type": "markdown",
      "metadata": {
        "id": "Kvpxqubig4lK"
      },
      "source": [
        "**Regresión lineal simple**\n",
        "\n",
        "Empecemos por comprender de qué se trata la regresión lineal. Recordemos que la ecuación de un línea recta esta dada por:\n",
        "\n",
        "$$y = m*x+b$$\n",
        "\n",
        "donde $y$ es la variable dependiente, $x$ la independiente y a $m$ y $b$ las llamamos pendientes e intercepto.\n",
        "\n",
        "En el ambito del ML solemos reescribir la ecuación como\n",
        "\n",
        "$$y=w_0+w_1x$$\n",
        "\n",
        "siendo $w_0$ y $w_1$ llamados los \"parámetros del modelo\", en lo que se conoce como **regresión lineal simple**.\n",
        "\n",
        "El objetivo mediante un conjunto de datos como el que se presenta a continuación, sería el de encontrar los mejores parámetros  $w_0$ y $w_1$ que representan a los datos mediante una recta.\n",
        "\n",
        "![Imagen tomada de medium.com](https://miro.medium.com/max/642/1*xxxqZtZExBJoxmYKIY-waw.png)\n",
        "\n",
        "Existen varios algoritmos para resolver ésta tarea, el más simple es usar el algorítmo de mínimos cuadrados.\n",
        "\n",
        "El algoritmo encuentra los parámetros que minimizan la el error cuadrado conjunto (la suma) entre nuestras predicciones y los valores reales.\n",
        "\n",
        "![Imagen tomada de /www.jmp.com](https://www.jmp.com/en_hk/statistics-knowledge-portal/what-is-multiple-regression/fitting-multiple-regression-model/_jcr_content/par/styledcontainer_2069/par/lightbox_4130/lightboxImage.img.png/1548704005203.png)"
      ]
    },
    {
      "cell_type": "markdown",
      "source": [
        "**Regresión lineal múltiple**\n",
        "\n",
        "A diferencia de la regresión lineal simple, en donde se ajusta una recta a un conjunto de puntos, en la regresión lineal múltiple se ajusta un hiperplano a un conjunto de datos mediante la siguiente ecuación:\n",
        "\n",
        "$$y=w_0+w_1x_1+w_2x_2+...+w_nx_n$$\n",
        "\n",
        "En la siguiente figura, se ilustra un caso de un ajuste lineal múltiple de un plano representado por dos variables independientes $x_i$ a un conjunto de datos.\n",
        "\n",
        "![Regresión lineal múltiple](https://github.com/ssanchezgoe/viu_aprendizaje_supervisado/blob/main/logos/multiple_LR.png?raw=true)"
      ],
      "metadata": {
        "id": "30HKclOj207u"
      }
    },
    {
      "cell_type": "markdown",
      "metadata": {
        "id": "pGFxtafDqn9z"
      },
      "source": [
        "\n",
        "En cualquiera de los casos (regresión lineal simple o múltiple), necesitamos una medida de qué tan bien (o mal) el modelo se ajusta a los datos de entrenamiento. Esta medida de evaluación (función de costo) es el error calculado entre la recta/hiperplano generada/o $\\hat{y}$ a los puntos reales. El entrenamiento del modelo será entonces encontrar los valores de $w_i$ que minimicen dicha función de costo.\n",
        "\n",
        "Entre las métricas más populares encontramos:\n",
        "\n",
        "* Error medio absoluto (MAE)\n",
        "\n",
        "$$\\text{MAE} = \\frac{1}{m}\\sum_{i=1}^{m}|\\hat{y}_i -y_i|$$\n",
        "\n",
        "* Error absoluto percentual medio (MAPE)\n",
        "\n",
        "$$\\text{MAPE} = \\frac{1}{m}\\sum_{i=1}^{m} \\frac{|\\hat{y}_i -y_i|}{\\text{max}(\\epsilon,|y_i|)}$$\n",
        "\n",
        "\n",
        "* Error cuadrático medio (MSE)\n",
        "\n",
        "$$\\text{MSE}=\\frac{1}{m}\\sum_{i=1}^{m}\\left(\\hat{y}_i -y_i\\right)^2$$\n",
        "\n",
        "* Raíz del error cuadrático medio (RMSE)\n",
        "\n",
        "$$\\text{RMSE}=\\sqrt{\\frac{1}{m}\\sum_{i=1}^{m}\\left(\\hat{y}({\\bf x})_i -y_i\\right)^2}$$\n",
        "\n",
        "Estas métricas las podemos obtener del módulo [metrics](https://scikit-learn.org/stable/modules/classes.html#module-sklearn.metrics) de sklearn. Apliquémoslas al modelo lineal simple estudiado en la sesión anterior:"
      ]
    },
    {
      "cell_type": "markdown",
      "source": [
        "### 1.1.2. Ejercicio Guiado"
      ],
      "metadata": {
        "id": "9ZU9BNL4FQkK"
      }
    },
    {
      "cell_type": "code",
      "source": [
        "import numpy as np\n",
        "\n",
        "from math import sqrt\n",
        "\n",
        "from pprint import pprint\n",
        "\n",
        "from sklearn.datasets import fetch_california_housing\n",
        "from sklearn.dummy import DummyRegressor\n",
        "from sklearn import preprocessing\n",
        "from sklearn.model_selection import KFold, cross_validate, cross_val_score\n",
        "from sklearn.metrics import make_scorer, mean_squared_error, mean_absolute_error\n",
        "from sklearn.model_selection import train_test_split\n",
        "from sklearn.svm import SVR\n",
        "\n",
        "import matplotlib.pyplot as plt"
      ],
      "metadata": {
        "id": "xIV746M8FQNJ"
      },
      "execution_count": null,
      "outputs": []
    },
    {
      "cell_type": "code",
      "source": [
        "# Cargar y explorar los datos\n",
        "datos = fetch_california_housing()\n",
        "pprint(datos)\n",
        "print(np.shape(datos.data))"
      ],
      "metadata": {
        "id": "rG4nuYT0HRtK",
        "colab": {
          "base_uri": "https://localhost:8080/"
        },
        "outputId": "c53d2e5c-6b5e-4faf-e556-0e6869fbffe9"
      },
      "execution_count": null,
      "outputs": [
        {
          "output_type": "stream",
          "name": "stdout",
          "text": [
            "{'DESCR': '.. _california_housing_dataset:\\n'\n",
            "          '\\n'\n",
            "          'California Housing dataset\\n'\n",
            "          '--------------------------\\n'\n",
            "          '\\n'\n",
            "          '**Data Set Characteristics:**\\n'\n",
            "          '\\n'\n",
            "          '    :Number of Instances: 20640\\n'\n",
            "          '\\n'\n",
            "          '    :Number of Attributes: 8 numeric, predictive attributes and the '\n",
            "          'target\\n'\n",
            "          '\\n'\n",
            "          '    :Attribute Information:\\n'\n",
            "          '        - MedInc        median income in block group\\n'\n",
            "          '        - HouseAge      median house age in block group\\n'\n",
            "          '        - AveRooms      average number of rooms per household\\n'\n",
            "          '        - AveBedrms     average number of bedrooms per household\\n'\n",
            "          '        - Population    block group population\\n'\n",
            "          '        - AveOccup      average number of household members\\n'\n",
            "          '        - Latitude      block group latitude\\n'\n",
            "          '        - Longitude     block group longitude\\n'\n",
            "          '\\n'\n",
            "          '    :Missing Attribute Values: None\\n'\n",
            "          '\\n'\n",
            "          'This dataset was obtained from the StatLib repository.\\n'\n",
            "          'https://www.dcc.fc.up.pt/~ltorgo/Regression/cal_housing.html\\n'\n",
            "          '\\n'\n",
            "          'The target variable is the median house value for California '\n",
            "          'districts,\\n'\n",
            "          'expressed in hundreds of thousands of dollars ($100,000).\\n'\n",
            "          '\\n'\n",
            "          'This dataset was derived from the 1990 U.S. census, using one row '\n",
            "          'per census\\n'\n",
            "          'block group. A block group is the smallest geographical unit for '\n",
            "          'which the U.S.\\n'\n",
            "          'Census Bureau publishes sample data (a block group typically has a '\n",
            "          'population\\n'\n",
            "          'of 600 to 3,000 people).\\n'\n",
            "          '\\n'\n",
            "          'A household is a group of people residing within a home. Since the '\n",
            "          'average\\n'\n",
            "          'number of rooms and bedrooms in this dataset are provided per '\n",
            "          'household, these\\n'\n",
            "          'columns may take surprisingly large values for block groups with '\n",
            "          'few households\\n'\n",
            "          'and many empty houses, such as vacation resorts.\\n'\n",
            "          '\\n'\n",
            "          'It can be downloaded/loaded using the\\n'\n",
            "          ':func:`sklearn.datasets.fetch_california_housing` function.\\n'\n",
            "          '\\n'\n",
            "          '.. topic:: References\\n'\n",
            "          '\\n'\n",
            "          '    - Pace, R. Kelley and Ronald Barry, Sparse Spatial '\n",
            "          'Autoregressions,\\n'\n",
            "          '      Statistics and Probability Letters, 33 (1997) 291-297\\n',\n",
            " 'data': array([[   8.3252    ,   41.        ,    6.98412698, ...,    2.55555556,\n",
            "          37.88      , -122.23      ],\n",
            "       [   8.3014    ,   21.        ,    6.23813708, ...,    2.10984183,\n",
            "          37.86      , -122.22      ],\n",
            "       [   7.2574    ,   52.        ,    8.28813559, ...,    2.80225989,\n",
            "          37.85      , -122.24      ],\n",
            "       ...,\n",
            "       [   1.7       ,   17.        ,    5.20554273, ...,    2.3256351 ,\n",
            "          39.43      , -121.22      ],\n",
            "       [   1.8672    ,   18.        ,    5.32951289, ...,    2.12320917,\n",
            "          39.43      , -121.32      ],\n",
            "       [   2.3886    ,   16.        ,    5.25471698, ...,    2.61698113,\n",
            "          39.37      , -121.24      ]]),\n",
            " 'feature_names': ['MedInc',\n",
            "                   'HouseAge',\n",
            "                   'AveRooms',\n",
            "                   'AveBedrms',\n",
            "                   'Population',\n",
            "                   'AveOccup',\n",
            "                   'Latitude',\n",
            "                   'Longitude'],\n",
            " 'frame': None,\n",
            " 'target': array([4.526, 3.585, 3.521, ..., 0.923, 0.847, 0.894]),\n",
            " 'target_names': ['MedHouseVal']}\n",
            "(20640, 8)\n"
          ]
        }
      ]
    },
    {
      "cell_type": "code",
      "source": [
        "# Extraer la matriz de datos \"X\" y la variable target \"y\"\n",
        "# Cargar 2000 datos\n",
        "X = datos.data[0:2000]\n",
        "y = datos.target[0:2000]"
      ],
      "metadata": {
        "id": "lZuOyGlgFzyP"
      },
      "execution_count": null,
      "outputs": []
    },
    {
      "cell_type": "code",
      "source": [
        "X.shape"
      ],
      "metadata": {
        "colab": {
          "base_uri": "https://localhost:8080/"
        },
        "id": "ALdP-bKXvVnA",
        "outputId": "ad5fc63c-49d1-45f9-cef9-4d9290412d59"
      },
      "execution_count": null,
      "outputs": [
        {
          "output_type": "execute_result",
          "data": {
            "text/plain": [
              "(2000, 8)"
            ]
          },
          "metadata": {},
          "execution_count": 8
        }
      ]
    },
    {
      "cell_type": "code",
      "source": [
        "# Dividir 0.2 test y fijar semilla aleatoria\n",
        "X_train, X_test, y_train, y_test = train_test_split(X, y, test_size=0.2, random_state=42)"
      ],
      "metadata": {
        "id": "EtC4UWSCI5UH"
      },
      "execution_count": null,
      "outputs": []
    },
    {
      "cell_type": "code",
      "source": [
        "print(f'Max X_train {X_train.max()}, Min X_train {X_train.min()}')"
      ],
      "metadata": {
        "colab": {
          "base_uri": "https://localhost:8080/"
        },
        "id": "e1s0Ozkdw8Lb",
        "outputId": "e13d7664-0697-4f8a-c08e-88d9b91a9470"
      },
      "execution_count": null,
      "outputs": [
        {
          "output_type": "stream",
          "name": "stdout",
          "text": [
            "Max X_train 12203.0, Min X_train -124.3\n"
          ]
        }
      ]
    },
    {
      "cell_type": "code",
      "source": [
        "# Estandarización de los datos de entrenamiento y test\n",
        "std_scaling = preprocessing.StandardScaler()\n",
        "\n",
        "X_train = std_scaling.fit_transform(X_train)\n",
        "X_test = std_scaling.transform(X_test)"
      ],
      "metadata": {
        "id": "GqAbURUQV5DT"
      },
      "execution_count": null,
      "outputs": []
    },
    {
      "cell_type": "code",
      "source": [
        "print(f'Max X_train {X_train.max()}, Min X_train {X_train.min()}')"
      ],
      "metadata": {
        "colab": {
          "base_uri": "https://localhost:8080/"
        },
        "id": "U_oZWm26xahP",
        "outputId": "987259d4-ce14-43cc-969b-445cc09ba63d"
      },
      "execution_count": null,
      "outputs": [
        {
          "output_type": "stream",
          "name": "stdout",
          "text": [
            "Max X_train 28.22632887224849, Min X_train -4.063216731550069\n"
          ]
        }
      ]
    },
    {
      "cell_type": "code",
      "source": [
        "# Métricas de evaluación.\n",
        "metricas = {\n",
        "  'MAE': 'neg_mean_absolute_error',\n",
        "  'MSE': 'neg_mean_squared_error',\n",
        "  'RMSE': make_scorer(lambda y, y_pred:\n",
        "                      sqrt(mean_squared_error(y, y_pred)),\n",
        "                      greater_is_better=False),\n",
        "  'MAPE': make_scorer(lambda y, y_pred:\n",
        "                      np.mean(np.abs((y - y_pred) / y)) * 100,\n",
        "                      greater_is_better=False)}"
      ],
      "metadata": {
        "id": "JRysaVfXWigt"
      },
      "execution_count": null,
      "outputs": []
    },
    {
      "cell_type": "code",
      "source": [
        "# Definimos un algoritmo SVM de regresión\n",
        "algorithm = SVR(C=10, gamma='auto',  kernel='rbf')"
      ],
      "metadata": {
        "id": "gM1BqKv-k-1m"
      },
      "execution_count": null,
      "outputs": []
    },
    {
      "cell_type": "code",
      "source": [
        "# Validación y evaluación del modelo.\n",
        "# en \"cv = KFold(n_splits=5)\" se hace un cross-validation INTERNO!!\n",
        "results = cross_validate(algorithm, X_train, y_train, cv = KFold(n_splits=5, shuffle=True, random_state=42), scoring=metricas)\n",
        "# Presentación de los resultados de la evaluación.\n",
        "pprint(results)"
      ],
      "metadata": {
        "id": "gAvsQY3LmFFQ",
        "colab": {
          "base_uri": "https://localhost:8080/"
        },
        "outputId": "e60c293d-db85-4d34-dce3-f76d3ab0c363"
      },
      "execution_count": null,
      "outputs": [
        {
          "output_type": "stream",
          "name": "stdout",
          "text": [
            "{'fit_time': array([0.37299109, 0.29178619, 0.16150689, 0.15791273, 0.15011883]),\n",
            " 'score_time': array([0.03066587, 0.01616168, 0.0155561 , 0.0157845 , 0.01600218]),\n",
            " 'test_MAE': array([-0.3014315 , -0.30856187, -0.25088545, -0.29937623, -0.25762049]),\n",
            " 'test_MAPE': array([-16.06405985, -16.88753023, -14.80495336, -16.20688777,\n",
            "       -16.15547512]),\n",
            " 'test_MSE': array([-0.22757075, -0.23324639, -0.15576546, -0.25745249, -0.14779233]),\n",
            " 'test_RMSE': array([-0.47704376, -0.48295589, -0.39467133, -0.50739776, -0.38443768])}\n"
          ]
        }
      ]
    },
    {
      "cell_type": "code",
      "source": [
        "# Definimos un algoritmo SVM de regresión candidato\n",
        "model = SVR(C = 10, gamma = 'auto', kernel = 'rbf')\n",
        "model = model.fit(X_train, y_train)"
      ],
      "metadata": {
        "id": "A-teaCLupOdw"
      },
      "execution_count": null,
      "outputs": []
    },
    {
      "cell_type": "code",
      "source": [
        "# MAE en el conjunto de test\n",
        "y_pred = model.predict(X_test)\n",
        "mae = mean_absolute_error(y_test, y_pred)\n",
        "\n",
        "print(f'Test results (MAE) {mae}')"
      ],
      "metadata": {
        "id": "jFVrRIB5tryJ",
        "colab": {
          "base_uri": "https://localhost:8080/"
        },
        "outputId": "d57ab6a2-ced5-4318-cd16-07701ec6459a"
      },
      "execution_count": null,
      "outputs": [
        {
          "output_type": "stream",
          "name": "stdout",
          "text": [
            "Test results (MAE) 0.25795195819827477\n"
          ]
        }
      ]
    },
    {
      "cell_type": "code",
      "source": [
        "# También podemos extraer las predicciones para cuánto difieren los valores predichos de los reales\n",
        "print('Predicciones (y_hat):', np.round(y_pred[0:10],1))\n",
        "print('Valores reales (y):', np.round(y_test[0:10],1))"
      ],
      "metadata": {
        "id": "izEfox74v7Yz",
        "colab": {
          "base_uri": "https://localhost:8080/"
        },
        "outputId": "807a6a8b-c432-40f7-fbfd-a6a0c9c1c584"
      },
      "execution_count": null,
      "outputs": [
        {
          "output_type": "stream",
          "name": "stdout",
          "text": [
            "Predicciones (y_hat): [1.  1.1 1.5 2.3 1.5 1.4 2.1 1.7 0.9 0.9]\n",
            "Valores reales (y): [0.8 1.  1.7 2.4 1.5 1.6 1.8 1.1 0.8 1. ]\n"
          ]
        }
      ]
    },
    {
      "cell_type": "code",
      "source": [
        "# Grafica de realidad -vs- prediccion.\n",
        "def grafica_real_vs_pred(y_true, y_pred, metricas, algoritmo):\n",
        "    fig, ax = plt.subplots()\n",
        "    ax.scatter(y_true, y_pred, edgecolors=(0, 0, 0))\n",
        "    ax.plot([y_true.min(), y_true.max()], [y_true.min(), y_true.max()], 'k--', lw=4)\n",
        "    ax.set_xlabel('Valor real de la clase')\n",
        "    ax.set_ylabel('Predicción')\n",
        "    plt.show()"
      ],
      "metadata": {
        "id": "W4gcAUENwCpC"
      },
      "execution_count": null,
      "outputs": []
    },
    {
      "cell_type": "code",
      "source": [
        "# Grafica y_pred y_true\n",
        "grafica_real_vs_pred(y_test, y_pred, metricas, model)"
      ],
      "metadata": {
        "id": "ZwbSpTFdwD_e",
        "colab": {
          "base_uri": "https://localhost:8080/",
          "height": 449
        },
        "outputId": "c204f6c4-29f7-49b1-a255-20dc55cb151a"
      },
      "execution_count": null,
      "outputs": [
        {
          "output_type": "display_data",
          "data": {
            "text/plain": [
              "<Figure size 640x480 with 1 Axes>"
            ],
            "image/png": "[encoded data removed]"
          },
          "metadata": {}
        }
      ]
    },
    {
      "cell_type": "code",
      "source": [
        "# Entrenamiento cross_val_score\n",
        "results = cross_val_score(algorithm, X_train, y_train, cv = KFold(n_splits=5, shuffle=True, random_state=42), scoring='neg_mean_absolute_error')\n",
        "pprint(results)"
      ],
      "metadata": {
        "id": "0WH5DFFSOxDl",
        "colab": {
          "base_uri": "https://localhost:8080/"
        },
        "outputId": "80529350-b2a7-4204-8438-624737b594ae"
      },
      "execution_count": null,
      "outputs": [
        {
          "output_type": "stream",
          "name": "stdout",
          "text": [
            "array([-0.3014315 , -0.30856187, -0.25088545, -0.29937623, -0.25762049])\n"
          ]
        }
      ]
    },
    {
      "cell_type": "markdown",
      "source": [
        "<p><a name=\"metricas_clasificacion\"></a></p>\n",
        "\n",
        "## 1.1 Métricas de clasificación\n",
        "\n",
        "[Contenidos](#contents)\n"
      ],
      "metadata": {
        "id": "DoAbSUpZGndW"
      }
    },
    {
      "cell_type": "markdown",
      "metadata": {
        "id": "mzSujHsuUbq1"
      },
      "source": [
        "Las métricas de clasificación tienen como fin dar un puntaje para la compresión de los modelos en función de su clasificación de las clases.\n",
        "\n",
        "Empezaremos estudiando las métricas definidas en la **clasificación binaria** en donde solo existen dos clases:\n",
        "\n",
        "- Clase positiva o clase 1.\n",
        "- Clase negativa, clase 0, o clase -1.\n",
        "\n",
        "Las métricas derivadas de la clasificación binaria, pueden extenderse a la clasificación multiclase (donde se tiene más de una clase)."
      ]
    },
    {
      "cell_type": "markdown",
      "source": [
        "<p><a name=\"tipos_error\"></a></p>\n",
        "\n",
        "### 1.2.1 Tipos de error\n",
        "\n",
        "[Contenidos](#contents)\n"
      ],
      "metadata": {
        "id": "DPbBI92mNo4A"
      }
    },
    {
      "cell_type": "markdown",
      "metadata": {
        "id": "N9tRxWngU6SQ"
      },
      "source": [
        "\n",
        "Imaginemos una aplicación para detectar de forma temprana el cáncer mediante una prueba automatizada. Si la prueba es negativa, se supondrá que el paciente está sano, mientras que si la prueba es positiva, el paciente se someterá a una evaluación adicional. Aquí, llamaremos a una prueba positiva (una indicación de cáncer) la clase positiva, y una prueba negativa a la clase negativa. No podemos suponer que nuestro modelo siempre funcionará perfectamente; este cometerá errores. Para cualquier aplicación, debemos preguntarnos cuáles son las consecuencias de estos errores en el mundo real.\n",
        "\n",
        "Un posible error es que un paciente sano se clasifique como positivo, lo que llevaría a pruebas adicionales. Esto conlleva algunos costos y un inconveniente para el paciente. Una predicción positiva incorrecta se llama **falso positivo**. El otro posible error es que un paciente enfermo se clasifique como negativo, por lo que no recibirá más pruebas ni tratamiento. El cáncer no diagnosticado podría conducir a problemas de salud graves e incluso podría ser fatal. Un error de este tipo (una predicción negativa incorrecta) se llama **falso negativo**.\n",
        "\n",
        "Por el contrario, existen aquellos casos en en que un algoritmo de ML puede clasificar correctamente las muestras positivas, que se conoce como **True positives**, o las muestras negativas, que se conoce como **True negatives**.Una métrica que resultaría lógica definir a partir de estos conceptos, sería la metrica de exactitud o accuracy:\n",
        "\n",
        "$$\\text{Accuracy} = \\frac{TP+TN}{P+N}$$\n",
        "\n",
        "No obstante, esta métrica puede quedarse corta a la hora de identificar si el modelo es más sensible a la detección de clases positivas o negativas. Para ello, es necesario definir más métricas. Empecémos por ilustrar entonces, en qué caso la métrica de accuracy nos puede dar una percepción incorrecta del desempeño de un algoritmo.\n"
      ]
    },
    {
      "cell_type": "markdown",
      "source": [
        "<p><a name=\"datos_no_balanceados\"></a></p>\n",
        "\n",
        "### 1.2.2 Datos no balanceados\n",
        "\n",
        "[Contenidos](#contents)"
      ],
      "metadata": {
        "id": "RWwtBV4lN6HD"
      }
    },
    {
      "cell_type": "markdown",
      "metadata": {
        "id": "BVB8iPokai-d"
      },
      "source": [
        "\n",
        "\n",
        "Los conjuntos de datos en los que una clase es mucho más frecuente que la otra a menudo se denominan conjuntos de datos no balanceados. En realidad, los datos no balanceados son la norma, y es raro que los eventos de interés tengan una frecuencia igual o incluso similar en los datos.\n",
        "\n",
        "Para ilustrar, crearemos un conjunto de datos desequilibrado 9:1 a partir del conjunto de datos [digits](https://scikit-learn.org/stable/modules/generated/sklearn.datasets.load_digits.html), clasificando el dígito 9 contra las otras nueve clases:"
      ]
    },
    {
      "cell_type": "code",
      "source": [
        "digits = load_digits()"
      ],
      "metadata": {
        "id": "e4ZZL56x8QiZ"
      },
      "execution_count": null,
      "outputs": []
    },
    {
      "cell_type": "code",
      "metadata": {
        "id": "LyH-fZdlU9x5",
        "colab": {
          "base_uri": "https://localhost:8080/",
          "height": 291
        },
        "outputId": "53ca63cc-1acf-4040-dc1d-1c9453d115d8"
      },
      "source": [
        "from sklearn.datasets import load_digits\n",
        "from sklearn.model_selection import train_test_split\n",
        "import matplotlib.pyplot as plt\n",
        "import numpy as np\n",
        "\n",
        "#cargamos el dataset y separamoslos datos de entrenamiento y la variable objetivo\n",
        "digits = load_digits()\n",
        "\n",
        "X = digits.data\n",
        "y = digits.target == 9\n",
        "\n",
        "X_train, X_test, y_train, y_test = train_test_split(X, y, random_state=0)\n",
        "\n",
        "#mostramos el dígito 9\n",
        "plt.figure(1, figsize=(3, 3))\n",
        "plt.imshow(digits.images[9], cmap=plt.cm.gray_r, interpolation='nearest')\n",
        "plt.show()"
      ],
      "execution_count": null,
      "outputs": [
        {
          "output_type": "display_data",
          "data": {
            "text/plain": [
              "<Figure size 300x300 with 1 Axes>"
            ],
            "image/png": "[encoded data removed]"
          },
          "metadata": {}
        }
      ]
    },
    {
      "cell_type": "markdown",
      "metadata": {
        "id": "5042CkSgVA-S"
      },
      "source": [
        "Podemos usar [DummyClassifier](https://scikit-learn.org/stable/modules/generated/sklearn.dummy.DummyClassifier.html) para predecir siempre la clase mayoritaria (\"no nueve\") para ver cuál desinformativa puede ser la *accuracy*:"
      ]
    },
    {
      "cell_type": "code",
      "metadata": {
        "id": "XLO9FRCeVDI_",
        "colab": {
          "base_uri": "https://localhost:8080/"
        },
        "outputId": "f90698f4-950b-425d-a9c4-451148fbf495"
      },
      "source": [
        "from sklearn.dummy import DummyClassifier\n",
        "\n",
        "dummy_majority = DummyClassifier(strategy='most_frequent').fit(X_train, y_train)\n",
        "\n",
        "pred_most_frequent = dummy_majority.predict(X_test)\n",
        "\n",
        "print(\"Etiqueta predicha única: {}\".format(np.unique(pred_most_frequent)))\n",
        "print(\"Puntaje: {:.2f}\".format(dummy_majority.score(X_test, y_test)))"
      ],
      "execution_count": null,
      "outputs": [
        {
          "output_type": "stream",
          "name": "stdout",
          "text": [
            "Etiqueta predicha única: [False]\n",
            "Puntaje: 0.90\n"
          ]
        }
      ]
    },
    {
      "cell_type": "markdown",
      "metadata": {
        "id": "p6w-ZPWTVFVn"
      },
      "source": [
        "Comparemos esto con el uso de un clasificador real"
      ]
    },
    {
      "cell_type": "code",
      "metadata": {
        "id": "sH6Qcm2oVHIa",
        "colab": {
          "base_uri": "https://localhost:8080/"
        },
        "outputId": "25218069-38f7-4354-c583-ce0ea740fc95"
      },
      "source": [
        "from sklearn.svm import SVC\n",
        "\n",
        "svm = SVC(gamma=\"auto\").fit(X_train,y_train)\n",
        "\n",
        "pred_svm = svm.predict(X_test)\n",
        "\n",
        "print(\"Puntaje: {:.2f}\".format(svm.score(X_test, y_test)))"
      ],
      "execution_count": null,
      "outputs": [
        {
          "output_type": "stream",
          "name": "stdout",
          "text": [
            "Puntaje: 0.90\n"
          ]
        }
      ]
    },
    {
      "cell_type": "markdown",
      "metadata": {
        "id": "QOmJpOqbVKB3"
      },
      "source": [
        "En ambos casos obtenemos el mismo resultado. Esto podría indicar que algo está mal con la forma en que usamos SVC, o que la accuracy de hecho no es una buena medida. Evaluemos con otro modelo y esta vez, utilicemos el DummyClassifier de manera que produzca una salida aleatoria."
      ]
    },
    {
      "cell_type": "code",
      "metadata": {
        "id": "Co1IC1j1VLxR",
        "colab": {
          "base_uri": "https://localhost:8080/"
        },
        "outputId": "06510c66-42cb-4b0f-c971-7bfbb9143471"
      },
      "source": [
        "from sklearn.linear_model import LogisticRegression\n",
        "\n",
        "dummy = DummyClassifier().fit(X_train, y_train)\n",
        "pred_dummy = dummy.predict(X_test)\n",
        "print(\"Puntaje Dummy: {:.2f}\".format(dummy.score(X_test, y_test)))\n",
        "\n",
        "logreg = LogisticRegression(C=0.1, solver=\"liblinear\").fit(X_train, y_train)\n",
        "pred_logreg = logreg.predict(X_test)\n",
        "print(\"Puntaje LogReg: {:.2f}\".format(logreg.score(X_test, y_test)))"
      ],
      "execution_count": null,
      "outputs": [
        {
          "output_type": "stream",
          "name": "stdout",
          "text": [
            "Puntaje Dummy: 0.90\n",
            "Puntaje LogReg: 0.98\n"
          ]
        }
      ]
    },
    {
      "cell_type": "markdown",
      "metadata": {
        "id": "-pQ6UwVIVNyL"
      },
      "source": [
        "El clasificador Dummy es claramente el peor (según la accuracy), mientras que LogisticRegression produce muy buenos resultados. Sin embargo, incluso el clasificador aleatorio produce más del 80% de precisión. Esto hace que sea muy difícil juzgar cuál de estos resultados es realmente útil. El problema aquí es que la accuracy es una medida inadecuada para cuantificar el rendimiento predictivo en este escenario no balanceado, por lo que necesitamos métricas alternativas."
      ]
    },
    {
      "cell_type": "markdown",
      "source": [
        "<p><a name=\"matriz_de_confusion\"></a></p>\n",
        "\n",
        "### 1.2.3 Matriz de confusión\n",
        "\n",
        "[Contenidos](#contents)"
      ],
      "metadata": {
        "id": "67TnLGY2QYeO"
      }
    },
    {
      "cell_type": "markdown",
      "metadata": {
        "id": "uFSpFZNGa1-8"
      },
      "source": [
        "Una de las formas más completas de representar el resultado de evaluar la clasificación binaria es usar matrices de confusión. Inspeccionemos las predicciones de LogisticRegression de la sección anterior usando la función `confusion_matrix`. Ya almacenamos las predicciones sobre el conjunto de prueba en `pred_logreg`:"
      ]
    },
    {
      "cell_type": "code",
      "metadata": {
        "id": "_9kjOCQDVTgW",
        "colab": {
          "base_uri": "https://localhost:8080/"
        },
        "outputId": "58205f46-a219-4eea-f154-99be09b350b9"
      },
      "source": [
        "from sklearn.metrics import confusion_matrix\n",
        "\n",
        "confusion = confusion_matrix(y_test, pred_logreg)\n",
        "print(\"Confusion matrix:\\n{}\".format(confusion))"
      ],
      "execution_count": null,
      "outputs": [
        {
          "output_type": "stream",
          "name": "stdout",
          "text": [
            "Confusion matrix:\n",
            "[[401   2]\n",
            " [  8  39]]\n"
          ]
        }
      ]
    },
    {
      "cell_type": "markdown",
      "metadata": {
        "id": "utQq5QabVVkh"
      },
      "source": [
        "La salida de confusion_matrix es una matriz de dos por dos, donde las filas corresponden a las clases verdaderas y las columnas corresponden a las clases predichas. Cada entrada cuenta con qué frecuencia una muestra que pertenece a la clase correspondiente a la fila (aquí, \"no nueve\" y \"nueve\") se clasificó como la clase correspondiente a la columna"
      ]
    },
    {
      "cell_type": "code",
      "metadata": {
        "id": "09V-VPzEVX1g",
        "colab": {
          "base_uri": "https://localhost:8080/"
        },
        "outputId": "dc98fb01-9d00-45c7-89a4-9213c6ae9c1e"
      },
      "source": [
        "!pip install mglearn;"
      ],
      "execution_count": null,
      "outputs": [
        {
          "output_type": "stream",
          "name": "stdout",
          "text": [
            "Collecting mglearn\n",
            "  Downloading mglearn-0.2.0-py2.py3-none-any.whl (581 kB)\n",
            "\u001b[?25l     \u001b[90m━━━━━━━━━━━━━━━━━━━━━━━━━━━━━━━━━━━━━━━━\u001b[0m \u001b[32m0.0/581.4 kB\u001b[0m \u001b[31m?\u001b[0m eta \u001b[36m-:--:--\u001b[0m\r\u001b[2K     \u001b[91m━━━━━━\u001b[0m\u001b[90m╺\u001b[0m\u001b[90m━━━━━━━━━━━━━━━━━━━━━━━━━━━━━━━━━\u001b[0m \u001b[32m92.2/581.4 kB\u001b[0m \u001b[31m2.5 MB/s\u001b[0m eta \u001b[36m0:00:01\u001b[0m\r\u001b[2K     \u001b[91m━━━━━━━━━━━━━━━━━━━━━━━━━━━━━━━━━━━━━━━\u001b[0m\u001b[90m╺\u001b[0m \u001b[32m573.4/581.4 kB\u001b[0m \u001b[31m8.3 MB/s\u001b[0m eta \u001b[36m0:00:01\u001b[0m\r\u001b[2K     \u001b[90m━━━━━━━━━━━━━━━━━━━━━━━━━━━━━━━━━━━━━━━━\u001b[0m \u001b[32m581.4/581.4 kB\u001b[0m \u001b[31m7.0 MB/s\u001b[0m eta \u001b[36m0:00:00\u001b[0m\n",
            "\u001b[?25hRequirement already satisfied: numpy in /usr/local/lib/python3.10/dist-packages (from mglearn) (1.23.5)\n",
            "Requirement already satisfied: matplotlib in /usr/local/lib/python3.10/dist-packages (from mglearn) (3.7.1)\n",
            "Requirement already satisfied: scikit-learn in /usr/local/lib/python3.10/dist-packages (from mglearn) (1.2.2)\n",
            "Requirement already satisfied: pandas in /usr/local/lib/python3.10/dist-packages (from mglearn) (1.5.3)\n",
            "Requirement already satisfied: pillow in /usr/local/lib/python3.10/dist-packages (from mglearn) (9.4.0)\n",
            "Requirement already satisfied: cycler in /usr/local/lib/python3.10/dist-packages (from mglearn) (0.12.1)\n",
            "Requirement already satisfied: imageio in /usr/local/lib/python3.10/dist-packages (from mglearn) (2.31.6)\n",
            "Requirement already satisfied: joblib in /usr/local/lib/python3.10/dist-packages (from mglearn) (1.3.2)\n",
            "Requirement already satisfied: contourpy>=1.0.1 in /usr/local/lib/python3.10/dist-packages (from matplotlib->mglearn) (1.2.0)\n",
            "Requirement already satisfied: fonttools>=4.22.0 in /usr/local/lib/python3.10/dist-packages (from matplotlib->mglearn) (4.47.0)\n",
            "Requirement already satisfied: kiwisolver>=1.0.1 in /usr/local/lib/python3.10/dist-packages (from matplotlib->mglearn) (1.4.5)\n",
            "Requirement already satisfied: packaging>=20.0 in /usr/local/lib/python3.10/dist-packages (from matplotlib->mglearn) (23.2)\n",
            "Requirement already satisfied: pyparsing>=2.3.1 in /usr/local/lib/python3.10/dist-packages (from matplotlib->mglearn) (3.1.1)\n",
            "Requirement already satisfied: python-dateutil>=2.7 in /usr/local/lib/python3.10/dist-packages (from matplotlib->mglearn) (2.8.2)\n",
            "Requirement already satisfied: pytz>=2020.1 in /usr/local/lib/python3.10/dist-packages (from pandas->mglearn) (2023.3.post1)\n",
            "Requirement already satisfied: scipy>=1.3.2 in /usr/local/lib/python3.10/dist-packages (from scikit-learn->mglearn) (1.11.4)\n",
            "Requirement already satisfied: threadpoolctl>=2.0.0 in /usr/local/lib/python3.10/dist-packages (from scikit-learn->mglearn) (3.2.0)\n",
            "Requirement already satisfied: six>=1.5 in /usr/local/lib/python3.10/dist-packages (from python-dateutil>=2.7->matplotlib->mglearn) (1.16.0)\n",
            "Installing collected packages: mglearn\n",
            "Successfully installed mglearn-0.2.0\n"
          ]
        }
      ]
    },
    {
      "cell_type": "code",
      "metadata": {
        "id": "n_flFoLZVaTA",
        "colab": {
          "base_uri": "https://localhost:8080/",
          "height": 690
        },
        "outputId": "db53f9f5-299a-4188-eb75-e93100c984de"
      },
      "source": [
        "import mglearn\n",
        "\n",
        "mglearn.plots.plot_confusion_matrix_illustration()"
      ],
      "execution_count": null,
      "outputs": [
        {
          "output_type": "display_data",
          "data": {
            "text/plain": [
              "<Figure size 800x800 with 1 Axes>"
            ],
            "image/png": "[encoded data removed]"
          },
          "metadata": {}
        }
      ]
    },
    {
      "cell_type": "markdown",
      "metadata": {
        "id": "v995taaUVc0H"
      },
      "source": [
        "Las entradas en la diagonal principal de la matriz de confusión corresponden a las clasificaciones correctas, mientras que otras entradas nos dicen cuántas muestras de una clase se clasificaron erróneamente como otra clase.\n",
        "\n",
        "Si declaramos \"un nueve\" como la clase positiva, podemos relacionar las entradas de la matriz de confusión con los términos falso positivo y falso negativo que presentamos anteriormente. Llamamos a las muestras clasificadas correctamente que pertenecen a los positivos verdaderos de clase positiva y a las muestras clasificadas correctamente que pertenecen a los negativos verdaderos de clase negativa. Estos términos generalmente se abrevian FP, FN, TP y TN y conducen a la siguiente interpretación para la matriz de confusión"
      ]
    },
    {
      "cell_type": "code",
      "metadata": {
        "id": "HWkSnnqIVekr",
        "colab": {
          "base_uri": "https://localhost:8080/",
          "height": 436
        },
        "outputId": "f1228a5d-f036-4d6a-bb5a-2650ba68528d"
      },
      "source": [
        "mglearn.plots.plot_binary_confusion_matrix()"
      ],
      "execution_count": null,
      "outputs": [
        {
          "output_type": "display_data",
          "data": {
            "text/plain": [
              "<Figure size 640x480 with 1 Axes>"
            ],
            "image/png": "[encoded data removed]"
          },
          "metadata": {}
        }
      ]
    },
    {
      "cell_type": "markdown",
      "metadata": {
        "id": "DjW1z5C9VhG0"
      },
      "source": [
        "Ahora usemos la matriz de confusión para comparar los modelos que ajustamos anteriormente"
      ]
    },
    {
      "cell_type": "code",
      "metadata": {
        "id": "JQjFFVIaVi3B",
        "colab": {
          "base_uri": "https://localhost:8080/"
        },
        "outputId": "dee43675-fe7d-4d08-ad1d-42241364cda9"
      },
      "source": [
        "print(\"Clase más frecuente:\")\n",
        "print(confusion_matrix(y_test, pred_most_frequent))\n",
        "print(\"\\nmodelo Dummy:\")\n",
        "print(confusion_matrix(y_test, pred_dummy))\n",
        "print(\"\\nSVM:\")\n",
        "print(confusion_matrix(y_test, pred_svm))\n",
        "print(\"\\nLogistic Regression\")\n",
        "print(confusion_matrix(y_test, pred_logreg))"
      ],
      "execution_count": null,
      "outputs": [
        {
          "output_type": "stream",
          "name": "stdout",
          "text": [
            "Clase más frecuente:\n",
            "[[403   0]\n",
            " [ 47   0]]\n",
            "\n",
            "modelo Dummy:\n",
            "[[403   0]\n",
            " [ 47   0]]\n",
            "\n",
            "SVM:\n",
            "[[403   0]\n",
            " [ 47   0]]\n",
            "\n",
            "Logistic Regression\n",
            "[[401   2]\n",
            " [  8  39]]\n"
          ]
        }
      ]
    },
    {
      "cell_type": "markdown",
      "metadata": {
        "id": "03S1lJjAVmCM"
      },
      "source": [
        "Mirando la matriz de confusión, es bastante claro que algo está mal con `pred_most_frequent` y `SVM`, porque siempre predicen la misma clase. `pred_dummy`, por otro lado, tiene un número muy pequeño de positivos verdaderos(5), particularmente en comparación con el número de falsos negativos y falsos positivos: hay muchos más falsos negativos que verdaderos negativos. Vemos que solo LR tiene un mejor rendimiento en todos los aspectos: tiene más positivos verdaderos y negativos verdaderos mientras que tiene menos falsos positivos y falsos negativos."
      ]
    },
    {
      "cell_type": "markdown",
      "source": [
        "<p><a name=\"todas_las_metricas\"></a></p>\n",
        "\n",
        "### 1.2.4 Precisión, exhaustividad, exactitud y demás métricas.\n",
        "\n",
        "[Contenidos](#contents)"
      ],
      "metadata": {
        "id": "CRFx89-sQyKO"
      }
    },
    {
      "cell_type": "markdown",
      "metadata": {
        "id": "G5xqQEg8VowN"
      },
      "source": [
        "Inspeccionar la matriz de confusión total es una tarea dificil, y aunque obtuvimos mucha información al observar todos los aspectos de la matriz, el proceso fue muy manual y cualitativo. Hay varias otras formas de resumir la matriz de confusión, siendo las más comunes la **precisión** y la **exhaustividad**. La precisión mide cuántas de las muestras predichas como positivas son realmente positivas:\n",
        "\n",
        "$$\\text{Precisión} = \\frac{TP}{TP + FP}$$\n",
        "\n",
        "La **precisión** se utiliza como una métrica de rendimiento cuando el objetivo es limitar el número de falsos positivos.\n",
        "\n",
        "La **exhaustividad**, por otro lado, mide cuántas de las muestras positivas son capturadas por las predicciones positivas:\n",
        "\n",
        "$$\\text{Exhaustividad} = \\frac{TP}{TP + FN}$$\n",
        "\n",
        "La exhaustividad se utiliza como métrica de rendimiento cuando necesitamos identificar todas las muestras positivas; es decir, cuando es importante evitar falsos negativos.\n",
        "\n",
        "Con frecuencia hay tensión entre precisión y exhaustividad. Esto quiere decir que, al mejorar la precisión, generalmente se reduce la exhaustividad, y viceversa. Por lo tanto, si bien la precisión y la exhaustividad son medidas muy importantes, mirar solo una de ellas no proporcionará una imagen completa del problema. Una forma de resumirlos es el *puntaje f* o la *medida f*, que es la media armónica entre precisión y exhaustividad.\n",
        "\n",
        "$$f = 2  \\frac{\\text{Precisión}*\\text{Exhaustividad}}{\\text{Precisión}+\\text{Exhaustividad}}$$\n",
        "\n",
        "Como tiene en cuenta la precisión y la exhaustividad, puede ser una mejor medida que la *accuracy* en los conjuntos de datos de clasificación binaria no balanceados. Vamos a evaluarlo en las predicciones para el conjunto de datos \"nueve vs. resto\" que calculamos anteriormente. Aquí, asumiremos que la clase \"nueve\" es la clase positiva (está etiquetada como Verdadera mientras que el resto está etiquetada como Falsa), por lo que la clase positiva es la clase minoritaria\n",
        "\n",
        "La **exactitud** mide que tan bien realiza la predicción correcta un clasificador. Este valor corresponde a la razón entre el número de predicciones correctas respecto al número total de predicciones:\n",
        "\n",
        "\\begin{equation}\n",
        "\\text{Accuracy/Exactitud} = \\frac{TP+TN}{TP+FP+TN+FN}\n",
        "\\end{equation}\n",
        "\n",
        "En la siguiente matriz se resumen varias posibles métricas derivadas de la matriz de confusión, ver [enlace](https://en.wikipedia.org/wiki/Confusion_matrix) para mayor información.\n",
        "\n",
        "![matriz_confusion](https://github.com/ssanchezgoe/viu_aprendizaje_supervisado/blob/main/logos/matriz_confusion_2_categorias.png?raw=true)"
      ]
    },
    {
      "cell_type": "code",
      "metadata": {
        "id": "6b7sj84GVsnX",
        "colab": {
          "base_uri": "https://localhost:8080/"
        },
        "outputId": "1aed8618-73ae-448d-b6fa-3395591c9645"
      },
      "source": [
        "from sklearn.metrics import f1_score\n",
        "\n",
        "print(\"f most_frequent: {:.2f}\".format(f1_score(y_test, pred_most_frequent)))\n",
        "print(\"f dummy: {:.2f}\".format(f1_score(y_test, pred_dummy)))\n",
        "print(\"f svm: {:.2f}\".format(f1_score(y_test, pred_svm)))\n",
        "print(\"f LG: {:.2f}\".format(f1_score(y_test, pred_logreg)))"
      ],
      "execution_count": null,
      "outputs": [
        {
          "output_type": "stream",
          "name": "stdout",
          "text": [
            "f most_frequent: 0.00\n",
            "f dummy: 0.00\n",
            "f svm: 0.00\n",
            "f LG: 0.89\n"
          ]
        }
      ]
    },
    {
      "cell_type": "markdown",
      "metadata": {
        "id": "AbnKweaXVu7k"
      },
      "source": [
        "Podemos ver una distinción bastante fuerte entre las predicciones para dummy y para LG, que no estaba tan clara cuando se observaba solo la *accuracy*. Usando el puntaje f para la evaluación, resumimos nuevamente el rendimiento predictivo en un número. Sin embargo, el puntaje f parece capturar nuestra intuición de lo que es un buen modelo mucho mejor que la *accuracy*.\n",
        "\n",
        "Si queremos un resumen más completo de precisión, exhaustividad y puntaje f, podemos usar la función `clasificación_report` para calcular los tres a la vez"
      ]
    },
    {
      "cell_type": "code",
      "metadata": {
        "id": "3oWWuETmVzdR"
      },
      "source": [
        "from sklearn.metrics import classification_report\n",
        "print(classification_report(y_test, pred_most_frequent,\n",
        "                            target_names=[\"not nine\", \"nine\"]))"
      ],
      "execution_count": null,
      "outputs": []
    },
    {
      "cell_type": "markdown",
      "metadata": {
        "id": "-c4ypiIqV1xo"
      },
      "source": [
        "La función `clasificación_report` produce una línea por clase (aquí, Verdadero y Falso) e informa precisión, exhaustividad y puntaje f con esta clase como clase positiva. Antes, asumíamos que la clase minoritaria \"nueve\" era la clase positiva. Si cambiamos la clase positiva a \"no nueve\", podemos ver a partir del resultado del informe de clasificación que obtenemos una puntuación f de 0,94 con el modelo most_frequent. Además, para la clase \"no nueve\" tenemos una exhaustividad de 1, ya que clasificamos todas las muestras como \"no nueve\". La última columna junto al puntaje f proporciona el soporte de cada clase, lo que simplemente significa el número de muestras en esta clase.\n"
      ]
    },
    {
      "cell_type": "code",
      "metadata": {
        "id": "LKjL8jfWV3jZ"
      },
      "source": [
        "print(classification_report(y_test, pred_dummy,\n",
        "                            target_names=[\"not nine\", \"nine\"]))"
      ],
      "execution_count": null,
      "outputs": []
    },
    {
      "cell_type": "code",
      "metadata": {
        "id": "QsWf5VlmV5Kf"
      },
      "source": [
        "print(classification_report(y_test, pred_logreg,\n",
        "                            target_names=[\"not nine\", \"nine\"]))"
      ],
      "execution_count": null,
      "outputs": []
    },
    {
      "cell_type": "markdown",
      "metadata": {
        "id": "7NqzeeKvV8lI"
      },
      "source": [
        "Como podemos observar al mirar los informes, las diferencias entre los modelos ficticios y un modelo muy bueno ya no son tan claras. Elegir qué clase se declara la clase positiva tiene un gran impacto en las métricas. Mientras que el puntaje f para la clasificación ficticia es 0.09 (vs. 0.89 para la regresión logística) en la clase \"nueve\", para la clase \"no nueve\" es 0.90 vs. 0.99, que parecen resultados razonables. Sin embargo, al mirar todos los números juntos obtenemos una imagen bastante precisa de los resultados, y podemos ver claramente la superioridad del modelo de regresión logística"
      ]
    }
  ]
}