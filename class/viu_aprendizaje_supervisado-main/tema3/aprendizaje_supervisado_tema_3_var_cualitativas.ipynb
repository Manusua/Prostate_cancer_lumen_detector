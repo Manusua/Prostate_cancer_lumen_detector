{
  "cells": [
    {
      "cell_type": "markdown",
      "metadata": {
        "id": "view-in-github",
        "colab_type": "text"
      },
      "source": [
        "<a href=\"https://colab.research.google.com/github/ssanchezgoe/viu_aprendizaje_supervisado/blob/main/tema3/aprendizaje_supervisado_tema_3_var_cualitativas.ipynb\" target=\"_parent\"><img src=\"https://colab.research.google.com/assets/colab-badge.svg\" alt=\"Open In Colab\"/></a>"
      ]
    },
    {
      "cell_type": "code",
      "execution_count": null,
      "metadata": {
        "id": "VWOJTAUS66bJ"
      },
      "outputs": [],
      "source": [
        "# Creación aleatoria de datos\n",
        "import numpy as np\n",
        "import random\n",
        "random.seed(42)"
      ]
    },
    {
      "cell_type": "code",
      "execution_count": null,
      "metadata": {
        "id": "3b3U25ey66bM"
      },
      "outputs": [],
      "source": [
        "nivel_estudios = []\n",
        "nivel_estudios.extend(['Secundaria']*110)\n",
        "nivel_estudios.extend(['Bachillerato']*172)\n",
        "nivel_estudios.extend(['Grado']*145)\n",
        "nivel_estudios.extend(['Master']*52)\n",
        "nivel_estudios.extend(['Doctorado']*21)\n",
        "\n",
        "nivel_estudios = np.random.permutation(nivel_estudios)"
      ]
    },
    {
      "cell_type": "code",
      "execution_count": null,
      "metadata": {
        "id": "Um9piY2D66bN"
      },
      "outputs": [],
      "source": [
        "print(nivel_estudios)"
      ]
    },
    {
      "cell_type": "code",
      "execution_count": null,
      "metadata": {
        "id": "Gvi9zwJT66bN"
      },
      "outputs": [],
      "source": [
        "# DIAGRAMA DE BARRAS\n",
        "import matplotlib.pyplot as plt\n",
        "import numpy as np\n",
        "estudios, frecuencia = np.unique(nivel_estudios, return_counts=True)\n",
        "print(estudios, frecuencia)"
      ]
    },
    {
      "cell_type": "code",
      "execution_count": null,
      "metadata": {
        "id": "U_bEQbMk66bN"
      },
      "outputs": [],
      "source": [
        "plt.ylabel('Frecuencia absoluta')\n",
        "plt.xlabel('Nivel de estudios')\n",
        "plt.title('Diagrama de barras')\n",
        "plt.bar(estudios, frecuencia) # https://matplotlib.org/stable/api/_as_gen/matplotlib.pyplot.bar.html\n",
        "plt.show()"
      ]
    },
    {
      "cell_type": "code",
      "execution_count": null,
      "metadata": {
        "id": "ThilStHQ66bN"
      },
      "outputs": [],
      "source": [
        "# DIAGRAMA DE SECTORES\n",
        "colores = {'red', 'blue', 'orange', 'green', 'cyan'}\n",
        "plt.pie(frecuencia, labels=estudios, colors=colores, autopct='%1.2f%%')\n",
        "plt.title('Diagrama de sectores')\n",
        "plt.show()"
      ]
    },
    {
      "cell_type": "code",
      "source": [],
      "metadata": {
        "id": "yErjc3oB7K5e"
      },
      "execution_count": null,
      "outputs": []
    }
  ],
  "metadata": {
    "kernelspec": {
      "display_name": "Python 3",
      "language": "python",
      "name": "python3"
    },
    "language_info": {
      "codemirror_mode": {
        "name": "ipython",
        "version": 3
      },
      "file_extension": ".py",
      "mimetype": "text/x-python",
      "name": "python",
      "nbconvert_exporter": "python",
      "pygments_lexer": "ipython3",
      "version": "3.8.5"
    },
    "colab": {
      "provenance": [],
      "include_colab_link": true
    }
  },
  "nbformat": 4,
  "nbformat_minor": 0
}