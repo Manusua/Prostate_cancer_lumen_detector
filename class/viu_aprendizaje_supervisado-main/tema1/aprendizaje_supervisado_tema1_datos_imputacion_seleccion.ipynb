{
  "nbformat": 4,
  "nbformat_minor": 0,
  "metadata": {
    "colab": {
      "provenance": [],
      "authorship_tag": "ABX9TyNEUJNDvSk0hNXFoffCjwUE",
      "include_colab_link": true
    },
    "kernelspec": {
      "name": "python3",
      "display_name": "Python 3"
    },
    "language_info": {
      "name": "python"
    }
  },
  "cells": [
    {
      "cell_type": "markdown",
      "metadata": {
        "id": "view-in-github",
        "colab_type": "text"
      },
      "source": [
        "<a href=\"https://colab.research.google.com/github/ssanchezgoe/viu_aprendizaje_supervisado/blob/main/tema1/aprendizaje_supervisado_tema1_datos_imputacion_seleccion.ipynb\" target=\"_parent\"><img src=\"https://colab.research.google.com/assets/colab-badge.svg\" alt=\"Open In Colab\"/></a>"
      ]
    },
    {
      "cell_type": "markdown",
      "source": [
        "<p><img alt=\"Colaboratory logo\" height=\"140px\" src=\"https://github.com/ssanchezgoe/viu_aprendizaje_supervisado/blob/main/logos/logo_viu.png?raw=true\" align=\"left\" hspace=\"10px\" vspace=\"0px\"></p>\n",
        "\n",
        "<h1> Asignatura de Inteligencia Artificial</h1>\n",
        "\n",
        "\n",
        "La presente asignatura hace parte del máster oficial en Inteligencia Artificial, impartido en la Universidad Internacional de Valencia (VIU)."
      ],
      "metadata": {
        "id": "2PXJgknXBcO5"
      }
    },
    {
      "cell_type": "markdown",
      "source": [
        "<p><a name=\"contents\"></a></p>\n",
        "\n",
        "# Contenido\n",
        "\n",
        "- <a href=\"#procesamiento_datos_faltantes\">1. Procesamiento de datos faltantes (imputación de datos)</a><br>\n",
        "- <a href=\"#seleccion_de_atributos\">2. Selección de atributos</a><br>\n",
        "  - <a href=\"#baja_varianza\">2.1. Baja varianza</a><br>\n",
        "  - <a href=\"#f_test_informacion_mutua\">2.2. F-test e información mutua</a><br>"
      ],
      "metadata": {
        "id": "IlwO_HJeBi1R"
      }
    },
    {
      "cell_type": "markdown",
      "source": [
        "<p><a name=\"procesamiento_datos_faltantes\"></a></p>\n",
        "\n",
        "# Procesamiento de datos faltantes\n",
        "[Contenidos](#contents)"
      ],
      "metadata": {
        "id": "PsJLVA6AB4HL"
      }
    },
    {
      "cell_type": "markdown",
      "source": [
        "El procesamiento de datos faltantes o *imputación* en ciencia de datos, corresponde al proceso en el cual un valor faltante en una colmna se reemplaza por un valor conocido, derivado del los datos existentes."
      ],
      "metadata": {
        "id": "Fmy0uJ5uCP6Q"
      }
    },
    {
      "cell_type": "markdown",
      "source": [
        "**Ejemplo 1**"
      ],
      "metadata": {
        "id": "Q7p6ibmvERCG"
      }
    },
    {
      "cell_type": "code",
      "execution_count": null,
      "metadata": {
        "id": "brZv3pNK715k"
      },
      "outputs": [],
      "source": [
        "import numpy as np\n",
        "from sklearn.impute import SimpleImputer"
      ]
    },
    {
      "cell_type": "code",
      "source": [
        "# Carga de datos\n",
        "X_train = [[1,      4],\n",
        "           [np.nan, 3],\n",
        "           [7,      8]]"
      ],
      "metadata": {
        "id": "W5hgVXRXDD2h"
      },
      "execution_count": null,
      "outputs": []
    },
    {
      "cell_type": "code",
      "source": [
        "# Limpieza de datos: imputación valores ausentes (modelo)\n",
        "imputer = SimpleImputer(strategy='mean') # Utilizamos la estrategia de la media\n",
        "\n",
        "# Aplicar los métodos \"fit\" y \"transform\" para imputar los valores pérdidos de X_train\n",
        "# ???\n",
        "# print(X_train_clean)"
      ],
      "metadata": {
        "id": "wCcJBnn7DICz"
      },
      "execution_count": null,
      "outputs": []
    },
    {
      "cell_type": "code",
      "source": [
        "# Imputación de valores ausentes sobre el conjunto de test\n",
        "X_test = [[np.nan, 10],\n",
        "          [6,      np.nan],\n",
        "          [8,      2]]\n",
        "\n",
        "# Imputar los datos del conjunto de test\n",
        "# ???\n",
        "# print(X_test_clean)"
      ],
      "metadata": {
        "id": "8THdlKxPDPsn"
      },
      "execution_count": null,
      "outputs": []
    },
    {
      "cell_type": "markdown",
      "source": [
        "**Ejercicio 2**"
      ],
      "metadata": {
        "id": "Scr09nsLETrX"
      }
    },
    {
      "cell_type": "code",
      "source": [
        "import pandas as pd"
      ],
      "metadata": {
        "id": "cvSGqGRmETID"
      },
      "execution_count": null,
      "outputs": []
    },
    {
      "cell_type": "code",
      "source": [
        "# Cargar dataframe\n",
        "csv = pd.read_csv(\"https://raw.githubusercontent.com/ssanchezgoe/viu_aprendizaje_supervisado/main/datasets/penguins.csv\", sep = ';')\n",
        "\n",
        "csv.head()"
      ],
      "metadata": {
        "id": "VNQnfYftEm-V"
      },
      "execution_count": null,
      "outputs": []
    },
    {
      "cell_type": "code",
      "source": [
        "csv.isna().sum()"
      ],
      "metadata": {
        "id": "p-7Vi1GhFaha"
      },
      "execution_count": null,
      "outputs": []
    },
    {
      "cell_type": "code",
      "source": [
        "csv[csv.isna().any(axis=1)]"
      ],
      "metadata": {
        "id": "DYkXQ4RuGMt9"
      },
      "execution_count": null,
      "outputs": []
    },
    {
      "cell_type": "code",
      "source": [
        "# Conversión a numpy\n",
        "data = np.array(csv)\n",
        "data"
      ],
      "metadata": {
        "id": "iyJlCBBMFKnA"
      },
      "execution_count": null,
      "outputs": []
    },
    {
      "cell_type": "code",
      "source": [
        "pos_ausentes = np.where(np.isnan(data))[0]\n",
        "print(pos_ausentes)"
      ],
      "metadata": {
        "id": "iCCmew8GFSBM"
      },
      "execution_count": null,
      "outputs": []
    },
    {
      "cell_type": "code",
      "source": [
        "#Imputación de datos ausentes\n",
        "imputer = SimpleImputer(strategy='mean')\n",
        "data_clean = imputer.fit_transform(data)"
      ],
      "metadata": {
        "id": "v3fDxQRLF3yL"
      },
      "execution_count": null,
      "outputs": []
    },
    {
      "cell_type": "code",
      "source": [
        "pos_ausentes = np.where(np.isnan(data_clean))[0]\n",
        "print(pos_ausentes)"
      ],
      "metadata": {
        "id": "nAQOCXFDKV97"
      },
      "execution_count": null,
      "outputs": []
    },
    {
      "cell_type": "code",
      "source": [
        "data_clean[[3,271]]"
      ],
      "metadata": {
        "id": "RTLNe02bKnev"
      },
      "execution_count": null,
      "outputs": []
    },
    {
      "cell_type": "markdown",
      "source": [
        "<p><a name=\"seleccion_de_atributos\"></a></p>\n",
        "\n",
        "# Selección de Atributos\n",
        "\n",
        "[Contenidos](#contents)"
      ],
      "metadata": {
        "id": "f73tdM3DSt5L"
      }
    },
    {
      "cell_type": "markdown",
      "source": [
        "La selección de atributos corresponde al proceso en el cual se seleccionan las características que se espera guarden una mayor relación con la variable objetivo. Este proceso puede ser llevado a cabo de dos formas:\n",
        "\n",
        "- Análisis no supervisados: En donde se analiza el/los atributo/s independientemente de la variable objetivo.\n",
        "- Análisis supervisados: En donde se analiza el/los atributo/s conjuntamente con la variable objetivo.\n",
        "\n",
        "A su vez, estos analires pueden llevarse a cabo de dos formas:\n",
        "\n",
        "- Análisis univariantes: en los que se analiza uno a uno los atributos con la variable objetivo.\n",
        "- Análisis multivariantes: en donde se analiza conjuntamente los atributos y su relación con la variable objetivo."
      ],
      "metadata": {
        "id": "d7E0_v7gBtcj"
      }
    },
    {
      "cell_type": "markdown",
      "source": [
        "<p><a name=\"baja_varianza\"></a></p>\n",
        "\n",
        "## Baja Varianza\n",
        "\n",
        "[Contenidos](#contents)"
      ],
      "metadata": {
        "id": "YbPCBVeEogQt"
      }
    },
    {
      "cell_type": "markdown",
      "source": [
        "La varianza es una medida de dispersión de los datos determinada por la ecuación:\n",
        "\n",
        "$$S^2 = \\frac{\\sum(x_i-\\bar{x})^2}{n-1}$$\n",
        "\n",
        "en donde\n",
        "\n",
        "- $S^2$ es la varianza de la muestra.\n",
        "- $x_i$ es el valor de una observación.\n",
        "- $\\bar{x}$ es el valor medio de las muestras.\n",
        "- $n$ es el número de muestras.\n",
        "\n",
        "Podemos interpretar la varianza como la desviación promedio de los datos respecto al valor medio.\n",
        "\n",
        "El supuesto que realizamos al decidir eliminar una columna por baja varianza es que dicha característica no guarda ningún tipo de dependencia de la variable objetivo."
      ],
      "metadata": {
        "id": "zAhxARB42g69"
      }
    },
    {
      "cell_type": "markdown",
      "source": [
        "**Ejemplo**"
      ],
      "metadata": {
        "id": "VmwmtCYX8sNB"
      }
    },
    {
      "cell_type": "code",
      "source": [
        "import numpy as np\n",
        "from sklearn.feature_selection import VarianceThreshold\n",
        "from sklearn import datasets\n",
        "import pandas as pd"
      ],
      "metadata": {
        "id": "9t_-gSowKuoR"
      },
      "execution_count": null,
      "outputs": []
    },
    {
      "cell_type": "code",
      "source": [
        "iris = datasets.load_iris()\n",
        "df_iris = pd.DataFrame(data= np.c_[iris['data'], iris['target']], columns= iris['feature_names'] + ['target'])\n",
        "df_iris"
      ],
      "metadata": {
        "id": "brgBo8WDUBvl"
      },
      "execution_count": null,
      "outputs": []
    },
    {
      "cell_type": "code",
      "source": [
        "df_iris.var()"
      ],
      "metadata": {
        "id": "RvWXfKQdnOmq"
      },
      "execution_count": null,
      "outputs": []
    },
    {
      "cell_type": "code",
      "source": [
        "X = df_iris.to_numpy()[:,:-1]\n",
        "X[0:7]"
      ],
      "metadata": {
        "id": "bSJcrB19nd97"
      },
      "execution_count": null,
      "outputs": []
    },
    {
      "cell_type": "code",
      "source": [
        "thresholder = VarianceThreshold(threshold=.6)\n",
        "\n",
        "X_high_variance = thresholder.fit_transform(X)\n",
        "\n",
        "X_high_variance[0:7]"
      ],
      "metadata": {
        "id": "QUNmc4s3UXGX"
      },
      "execution_count": null,
      "outputs": []
    },
    {
      "cell_type": "markdown",
      "source": [
        "<p><a name=\"f_test_informacion_mutua\"></a></p>\n",
        "\n",
        "## F-Test e información mutua\n",
        "\n",
        "[Contenidos](#contents)"
      ],
      "metadata": {
        "id": "bJ0Jv2GlrdDK"
      }
    },
    {
      "cell_type": "markdown",
      "source": [
        "Estos metodos tienen dos objetivos diferentes para probar el tipo de dependencia de las diferentes caracteríscias con la variable objetivo, a saber:\n",
        "\n",
        "- **F-Test**: mide la dependencia lineal de una variable con la variable objetivo.\n",
        "\n",
        "- Prueba de **información mutua**: test que mide la dependencia lineal o no de una variable respecto a la variable objetivo."
      ],
      "metadata": {
        "id": "qBDxu_oC8wns"
      }
    },
    {
      "cell_type": "code",
      "source": [
        "import numpy as np\n",
        "import matplotlib.pyplot as plt\n",
        "from sklearn.feature_selection import f_regression, mutual_info_regression"
      ],
      "metadata": {
        "id": "5bA5wtRQXej7"
      },
      "execution_count": null,
      "outputs": []
    },
    {
      "cell_type": "code",
      "source": [
        "# Carga de datos.\n",
        "np.random.seed(42)\n",
        "X = np.random.rand(1000, 3)\n",
        "print(X)\n",
        "print(np.shape(X))"
      ],
      "metadata": {
        "id": "5cHeOQfVsETG"
      },
      "execution_count": null,
      "outputs": []
    },
    {
      "cell_type": "code",
      "source": [
        "# Definimos la etiqueta (target, ground truth) haciéndola dependiente de las características x1 y x2\n",
        "y = X[:, 0] + np.sin(6 * np.pi * X[:, 1]) + 0.1 * np.random.randn(1000)"
      ],
      "metadata": {
        "id": "ZBDTZevBsGI3"
      },
      "execution_count": null,
      "outputs": []
    },
    {
      "cell_type": "code",
      "source": [
        "# Evaluación de atributos: F-Test.\n",
        "f_test, _ = f_regression(X, y) # Llamamos al estadístico F\n",
        "f_test /= np.max(f_test) # Normalizamos"
      ],
      "metadata": {
        "id": "u2lJp-C3sIcp"
      },
      "execution_count": null,
      "outputs": []
    },
    {
      "cell_type": "code",
      "source": [
        "# Evaluación de atributos: información mutua.\n",
        "mi = mutual_info_regression(X, y)\n",
        "mi /= np.max(mi)"
      ],
      "metadata": {
        "id": "kKarxr3YsLVa"
      },
      "execution_count": null,
      "outputs": []
    },
    {
      "cell_type": "code",
      "source": [
        "# Graficamos la distribución de los datos y evaluación de atributos.\n",
        "plt.figure(figsize=(15, 5))\n",
        "for i in range(3):\n",
        "    plt.subplot(1, 3, i + 1)\n",
        "    plt.scatter(X[:, i], y, edgecolor='black', s=20)\n",
        "    plt.xlabel(\"$x_{}$\".format(i + 1), fontsize=14)\n",
        "    if i == 0:\n",
        "        plt.ylabel(\"$y$\", fontsize=14)\n",
        "    plt.title(\"F-test={:.2f}, MI={:.2f}\".format(f_test[i],\n",
        "              mi[i]), fontsize=16)\n",
        "plt.show()"
      ],
      "metadata": {
        "id": "xfndD6_IsOyU"
      },
      "execution_count": null,
      "outputs": []
    }
  ]
}